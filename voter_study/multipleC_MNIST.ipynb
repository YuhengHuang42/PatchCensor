{
 "cells": [
  {
   "cell_type": "code",
   "execution_count": 1,
   "metadata": {
    "ExecuteTime": {
     "end_time": "2021-01-22T09:21:23.239102Z",
     "start_time": "2021-01-22T09:21:22.074751Z"
    }
   },
   "outputs": [],
   "source": [
    "import torch\n",
    "import torch.nn as nn\n",
    "import torch.optim as optim\n",
    "import torch.nn.functional as F\n",
    "import torch.backends.cudnn as cudnn\n",
    "import torchvision\n",
    "import torchvision.transforms as transforms\n",
    "import matplotlib.pyplot as plt\n",
    "from tqdm import tqdm\n",
    "import pandas as pd\n",
    "import seaborn as sn\n",
    "import imagehash\n",
    "from scipy.spatial import distance\n",
    "from sklearn.metrics import confusion_matrix\n",
    "import sys\n",
    "import cv2\n",
    "sys.path.append('./PatchGuard')\n",
    "import nets.dsresnet_cifar as resnet\n",
    "from utils.defense_utils import *\n",
    "\n",
    "cudnn.benchmark = True"
   ]
  },
  {
   "cell_type": "markdown",
   "metadata": {},
   "source": [
    "## Convert to three channels"
   ]
  },
  {
   "cell_type": "code",
   "execution_count": null,
   "metadata": {},
   "outputs": [],
   "source": [
    "transform_train = transforms.Compose([\n",
    "    transforms.ToTensor()\n",
    "])\n",
    "\n",
    "transform_test = transforms.Compose([\n",
    "    transforms.ToTensor()\n",
    "])\n",
    "trainset = torchvision.datasets.MNIST(root='../split_verified/data', train=True, download=True, transform=transform_train)\n",
    "trainloader = torch.utils.data.DataLoader(trainset, batch_size=128, shuffle=True, num_workers=2)\n",
    "\n",
    "testset = torchvision.datasets.MNIST(root='../split_verified/data', train=False, download=True, transform=transform_test)\n",
    "testloader = torch.utils.data.DataLoader(testset, batch_size=2, shuffle=False, num_workers=2)"
   ]
  },
  {
   "cell_type": "code",
   "execution_count": null,
   "metadata": {},
   "outputs": [],
   "source": [
    "color_lookup = torch.tensor([\n",
    "            [128, 0, 0],\n",
    "            [230, 25, 75],\n",
    "            [70, 240, 240],\n",
    "            [210, 245, 60],\n",
    "            [250, 190, 190],\n",
    "            [170, 110, 40],\n",
    "            [170, 255, 195],\n",
    "            [165, 163, 159],\n",
    "            [0, 128, 128],\n",
    "            [128, 128, 0],\n",
    "            [0, 0, 0], # This is the default for digits.\n",
    "    ]).type(torch.float) / 255"
   ]
  },
  {
   "cell_type": "code",
   "execution_count": null,
   "metadata": {},
   "outputs": [],
   "source": [
    "def convert_singC_to_mulC(input_batch, labels, color_lookup, mask=None):\n",
    "    if mask != None:\n",
    "        lookup_withMask = torch.ones_like(color_lookup)\n",
    "        lookup_withMask[mask] = color_lookup[mask]\n",
    "    else:\n",
    "        lookup_withMask = color_lookup\n",
    "    color_matrix = lookup_withMask[labels]\n",
    "    color_matrix = color_matrix.reshape(labels.shape[0], 3, 1, 1).repeat(1, 1, 28, 28)\n",
    "    return input_batch * color_matrix "
   ]
  },
  {
   "cell_type": "code",
   "execution_count": null,
   "metadata": {},
   "outputs": [],
   "source": [
    "threeC_image_list = list()\n",
    "threeC_image_label = list()\n",
    "for input_image, input_label in trainloader:\n",
    "    threeC_image_list.append(convert_singC_to_mulC(input_image, input_label, color_lookup, mask))\n",
    "    threeC_image_label.append(input_label)\n",
    "threeC_image_list = torch.cat(threeC_image_list)\n",
    "threeC_image_label = torch.cat(threeC_image_label)"
   ]
  },
  {
   "cell_type": "code",
   "execution_count": null,
   "metadata": {},
   "outputs": [],
   "source": [
    "MNIST_threeC_train = torch.utils.data.TensorDataset(threeC_image_list, threeC_image_label)"
   ]
  },
  {
   "cell_type": "code",
   "execution_count": null,
   "metadata": {},
   "outputs": [],
   "source": [
    "torch.save(MNIST_threeC_train, \"dataset/MNIST_threeC19_train.pt\")"
   ]
  },
  {
   "cell_type": "code",
   "execution_count": null,
   "metadata": {},
   "outputs": [],
   "source": [
    "threeC_image_list = list()\n",
    "threeC_image_label = list()\n",
    "for input_image, input_label in testloader:\n",
    "    threeC_image_list.append(convert_singC_to_mulC(input_image, input_label, color_lookup, mask))\n",
    "    threeC_image_label.append(input_label)\n",
    "threeC_image_list = torch.cat(threeC_image_list)\n",
    "threeC_image_label = torch.cat(threeC_image_label)"
   ]
  },
  {
   "cell_type": "code",
   "execution_count": null,
   "metadata": {},
   "outputs": [],
   "source": [
    "MNIST_threeC_test = torch.utils.data.TensorDataset(threeC_image_list, threeC_image_label)"
   ]
  },
  {
   "cell_type": "code",
   "execution_count": null,
   "metadata": {},
   "outputs": [],
   "source": [
    "torch.save(MNIST_threeC_test, \"dataset/MNIST_threeC19_test.pt\")"
   ]
  },
  {
   "cell_type": "markdown",
   "metadata": {},
   "source": [
    "### Necessary parameters"
   ]
  },
  {
   "cell_type": "markdown",
   "metadata": {},
   "source": [
    "#### Mode selection"
   ]
  },
  {
   "cell_type": "code",
   "execution_count": null,
   "metadata": {},
   "outputs": [],
   "source": [
    "mode = \"threeC\" # mnist_one_band_lr_0.01_epoch_400_threeC.pth\n",
    "#mode = \"singleC\" # mnist_one_band_lr_0.01_epoch_400_singleC.pth\n",
    "#mode = \"threeC13789\" \n",
    "#mode = \"threeC19"
   ]
  },
  {
   "cell_type": "code",
   "execution_count": null,
   "metadata": {},
   "outputs": [],
   "source": [
    "device = 'cuda'\n",
    "B = 128 # batch size\n",
    "checkpointFile = \"checkpoints/\""
   ]
  },
  {
   "cell_type": "code",
   "execution_count": 11,
   "metadata": {
    "ExecuteTime": {
     "end_time": "2021-01-22T09:22:50.241023Z",
     "start_time": "2021-01-22T09:22:50.087738Z"
    }
   },
   "outputs": [
    {
     "data": {
      "text/plain": [
       "DataParallel(\n",
       "  (module): Sequential(\n",
       "    (0): Conv2d(6, 64, kernel_size=(4, 4), stride=(2, 2), padding=(1, 1))\n",
       "    (1): ReLU()\n",
       "    (2): Conv2d(64, 128, kernel_size=(4, 4), stride=(2, 2), padding=(1, 1))\n",
       "    (3): ReLU()\n",
       "    (4): Flatten()\n",
       "    (5): Linear(in_features=6272, out_features=500, bias=True)\n",
       "    (6): ReLU()\n",
       "    (7): Linear(in_features=500, out_features=100, bias=True)\n",
       "    (8): ReLU()\n",
       "    (9): Linear(in_features=100, out_features=10, bias=True)\n",
       "  )\n",
       ")"
      ]
     },
     "execution_count": 11,
     "metadata": {},
     "output_type": "execute_result"
    }
   ],
   "source": [
    "\n",
    "if 'three' in mode:\n",
    "    channel = 6\n",
    "    C = 3\n",
    "    resume_file = checkpointFile + f\"mnist_one_band_lr_0.01_epoch_400_{mode}.pth\"\n",
    "else:\n",
    "    channel = 2\n",
    "    C = 1\n",
    "    resume_file = checkpointFile + f\"mnist_one_band_lr_0.01_epoch_400_{mode}.pth\"\n",
    "\n",
    "transform_train = transforms.Compose([\n",
    "    transforms.ToTensor()\n",
    "])\n",
    "\n",
    "transform_test = transforms.Compose([\n",
    "    transforms.ToTensor()\n",
    "])\n",
    "\n",
    "if 'single' in mode:\n",
    "    testset = torchvision.datasets.MNIST(root='../split_verified/data', train=False, download=True, transform=transform_test)\n",
    "    testloader = torch.utils.data.DataLoader(testset, batch_size=B, shuffle=False, num_workers=2)\n",
    "    #nomtestloader = torch.utils.data.DataLoader(testset, batch_size=512, shuffle=False, num_workers=2)\n",
    "\n",
    "else:\n",
    "    testset = torch.load(f'dataset/MNIST_{mode}_test.pt')\n",
    "    testloader = torch.utils.data.DataLoader(testset, batch_size=B, shuffle=False, num_workers=2)\n",
    "\n",
    "# Model definition\n",
    "\n",
    "class Flatten(nn.Module):\n",
    "    def forward(self, x):\n",
    "        return x.reshape(x.size(0), -1)\n",
    "net = nn.Sequential(\n",
    "        nn.Conv2d(channel, 64, 4, stride=2, padding=1),\n",
    "        nn.ReLU(),\n",
    "        nn.Conv2d(64, 128, 4, stride=2, padding=1),\n",
    "        nn.ReLU(),\n",
    "        Flatten(),\n",
    "        nn.Linear(128*7*7,500),\n",
    "        nn.ReLU(),\n",
    "        nn.Linear(500,100),\n",
    "        nn.ReLU(),\n",
    "        nn.Linear(100, 10)\n",
    "    )\n",
    "net = net.to(device)\n",
    "if device == 'cuda':\n",
    "    net = torch.nn.DataParallel(net)\n",
    "    cudnn.benchmark = True\n",
    "checkpoint = torch.load(resume_file)\n",
    "net.load_state_dict(checkpoint['net'])\n",
    "net.eval()"
   ]
  },
  {
   "cell_type": "code",
   "execution_count": 12,
   "metadata": {
    "ExecuteTime": {
     "end_time": "2021-01-22T09:22:51.690494Z",
     "start_time": "2021-01-22T09:22:51.687744Z"
    }
   },
   "outputs": [],
   "source": [
    "band_size = 2\n",
    "patch_size = 5\n",
    "num_cls = 10\n",
    "H, W = 28, 28"
   ]
  },
  {
   "cell_type": "markdown",
   "metadata": {},
   "source": [
    "### Do certification"
   ]
  },
  {
   "cell_type": "code",
   "execution_count": 13,
   "metadata": {
    "ExecuteTime": {
     "end_time": "2021-01-22T09:23:18.306009Z",
     "start_time": "2021-01-22T09:22:52.551468Z"
    },
    "scrolled": true
   },
   "outputs": [
    {
     "name": "stderr",
     "output_type": "stream",
     "text": [
      "100%|██████████| 79/79 [00:25<00:00,  3.07it/s]"
     ]
    },
    {
     "name": "stdout",
     "output_type": "stream",
     "text": [
      "robust acc: 86.720 %\n",
      "clean acc: 99.990 %\n",
      "Certified Wrong class: 0.000 %\n"
     ]
    },
    {
     "name": "stderr",
     "output_type": "stream",
     "text": [
      "\n"
     ]
    }
   ],
   "source": [
    "# PatchGuard\n",
    "# Attention: dataset needs to be normalized before feeding data\n",
    "correct = 0\n",
    "cert_correct = 0\n",
    "cert_incorrect = 0\n",
    "total = 0\n",
    "\n",
    "original_images = torch.ones(1, C, H, W)\n",
    "scoreCAM_images = torch.ones(1, 1, H, W)\n",
    "predictions_all_list = torch.ones(B, num_cls)\n",
    "clean_corr_index = torch.ones(1)\n",
    "certified_index = torch.ones(1)\n",
    "wrong_index = torch.ones(1)\n",
    "labels = torch.ones(1)\n",
    "result_list = []\n",
    "\n",
    "clean_corr_list=[]\n",
    "with torch.no_grad():\n",
    "    for inputs, targets in tqdm(testloader):\n",
    "        original_images = torch.cat((original_images, inputs), dim=0)\n",
    "        labels = torch.cat((labels, targets), dim=0)\n",
    "        #inputs = inputs * std + mean\n",
    "        inputs = inputs.to(device)\n",
    "        result, clean_verbose_list = masking_ds(inputs, targets.numpy(), net, band_size, patch_size, thres=0, verbose=True)\n",
    "        predictions_all_list = torch.cat((predictions_all_list, torch.tensor(clean_verbose_list)), dim=0)\n",
    "        clean_verbose_listnp = np.array(clean_verbose_list)\n",
    "        idxsort = np.argsort(-clean_verbose_listnp,axis=1,kind='stable')\n",
    "        predictions = torch.tensor(idxsort[:,0])\n",
    "        clean_corr_index = torch.cat((clean_corr_index, predictions.eq(targets)), dim=0)\n",
    "        wrong_index = torch.cat((wrong_index, ~predictions.eq(targets).cpu()), dim=0)\n",
    "        certified_index = torch.cat((certified_index, torch.tensor([i[0] for i in result]) == 2), dim=0)\n",
    "        result_list += result\n",
    "\n",
    "original_images = original_images[1:]\n",
    "clean_corr_index = clean_corr_index[1:].type(torch.bool)\n",
    "wrong_index = wrong_index[1:].type(torch.bool)\n",
    "certified_index = certified_index[1:].type(torch.bool)\n",
    "labels = labels[1:]\n",
    "predictions_all_list = predictions_all_list[B:]\n",
    "print(\"robust acc: {:.3f} %\".format(certified_index.sum().item()/10000 * 100.0))\n",
    "print(\"clean acc: {:.3f} %\".format(clean_corr_index.sum().item()/10000 * 100.0))\n",
    "print('Certified Wrong class: {:.3f} %'.format((torch.tensor([i[0] for i in result_list]) == 4).sum().item()/10000 * 100.0))"
   ]
  },
  {
   "cell_type": "code",
   "execution_count": 14,
   "metadata": {
    "ExecuteTime": {
     "end_time": "2021-01-22T09:23:23.022991Z",
     "start_time": "2021-01-22T09:23:18.307907Z"
    }
   },
   "outputs": [
    {
     "name": "stderr",
     "output_type": "stream",
     "text": [
      "100%|██████████| 79/79 [00:04<00:00, 16.82it/s]"
     ]
    },
    {
     "name": "stdout",
     "output_type": "stream",
     "text": [
      "Results for Derandomized Smoothing\n",
      "Using band size 2 with threshhold 0.3\n",
      "Certifying For Patch 5*5\n",
      "Total images: 10000\n",
      "Correct: 10000 (100.0%)\n",
      "Certified Correct class: 8603 (86.03%)\n",
      "Certified Wrong class: 0 (0.0%)\n"
     ]
    },
    {
     "name": "stderr",
     "output_type": "stream",
     "text": [
      "\n"
     ]
    }
   ],
   "source": [
    "# (De)Randomized Smoothing (PatchSmoothing)\n",
    "correct = 0\n",
    "cert_correct = 0\n",
    "cert_incorrect = 0\n",
    "total = 0\n",
    "original_images = torch.ones(1, C, H, W)\n",
    "scoreCAM_images = torch.ones(1, 1, H, W)\n",
    "predictions_all_list = torch.ones(B, num_cls)\n",
    "clean_corr_index = torch.ones(1)\n",
    "certified_index = torch.ones(1)\n",
    "wrong_index = torch.ones(1)\n",
    "labels = torch.ones(1)\n",
    "\n",
    "with torch.no_grad():\n",
    "    for inputs, targets in tqdm(testloader):\n",
    "        #inputs = inputs * std + mean\n",
    "        original_images = torch.cat((original_images, inputs), dim=0)\n",
    "        labels = torch.cat((labels, targets), dim=0)\n",
    "        inputs, targets = inputs.to(device), targets.to(device)\n",
    "        total += targets.size(0)\n",
    "        predictions_verbose,  certyn = ds(inputs, net,band_size, \n",
    "                                          patch_size, num_cls,threshold = 0.3, verbose=True) # 0.3 is the parameters used in ds paper\n",
    "        predictions_all_list = torch.cat((predictions_all_list, predictions_verbose.cpu()), dim=0)\n",
    "        predinctionsnp = predictions_verbose.cpu().numpy()\n",
    "        idxsort = np.argsort(-predinctionsnp,axis=1,kind='stable')\n",
    "        predictions = torch.tensor(idxsort[:,0]).cuda()\n",
    "        \n",
    "        clean_corr_index = torch.cat((clean_corr_index, predictions.eq(targets).cpu()), dim=0)\n",
    "        wrong_index = torch.cat((wrong_index, ~predictions.eq(targets).cpu()), dim=0)\n",
    "        certified_index = torch.cat((certified_index, certyn.cpu()), dim=0)\n",
    "        \n",
    "        correct += (predictions.eq(targets)).sum().item()\n",
    "        cert_correct += (predictions.eq(targets) & certyn).sum().item()\n",
    "        cert_incorrect += (~predictions.eq(targets) & certyn).sum().item()\n",
    "print('Results for Derandomized Smoothing')\n",
    "print('Using band size ' + str(band_size) + ' with threshhold ' + str(0.3))\n",
    "print('Certifying For Patch ' +str(patch_size) + '*'+str(patch_size))\n",
    "print('Total images: ' + str(total))\n",
    "print('Correct: ' + str(correct) + ' (' + str((100.*correct)/total)+'%)')\n",
    "print('Certified Correct class: ' + str(cert_correct) + ' (' + str((100.*cert_correct)/total)+'%)')\n",
    "print('Certified Wrong class: ' + str(cert_incorrect) + ' (' + str((100.*cert_incorrect)/total)+'%)')\n",
    "\n",
    "original_images = original_images[1:]\n",
    "clean_corr_index = clean_corr_index[1:].type(torch.bool)\n",
    "wrong_index = wrong_index[1:].type(torch.bool)\n",
    "certified_index = certified_index[1:].type(torch.bool)\n",
    "labels = labels[1:]\n",
    "predictions_all_list = predictions_all_list[B:]"
   ]
  },
  {
   "cell_type": "markdown",
   "metadata": {},
   "source": [
    "#### Confusion analysis"
   ]
  },
  {
   "cell_type": "code",
   "execution_count": 16,
   "metadata": {
    "ExecuteTime": {
     "end_time": "2021-01-22T09:23:29.944332Z",
     "start_time": "2021-01-22T09:23:29.161065Z"
    },
    "scrolled": false
   },
   "outputs": [
    {
     "data": {
      "text/plain": [
       "Text(0.5, 1.0, 'Three channel (all)')"
      ]
     },
     "execution_count": 16,
     "metadata": {},
     "output_type": "execute_result"
    },
    {
     "data": {
      "image/png": "[encoded data removed]",
      "text/plain": [
       "<Figure size 432x360 with 2 Axes>"
      ]
     },
     "metadata": {
      "needs_background": "light"
     },
     "output_type": "display_data"
    }
   ],
   "source": [
    "cmatrix = confusion_matrix(labels[~certified_index & clean_corr_index].numpy(), \n",
    "                           np.argsort(-predictions_all_list[~certified_index & clean_corr_index].numpy(), axis=1, kind='stable')[:, 1]\n",
    "                          )\n",
    "df_cm = pd.DataFrame(cmatrix, index = [i for i in range(10)],\n",
    "                  columns = [i for i in range(10)])\n",
    "plt.figure(figsize = (6,5))\n",
    "sn.heatmap(df_cm, annot=True, fmt='.3g')\n",
    "plt.title(\"Three channel (all)\", fontsize=14)"
   ]
  },
  {
   "cell_type": "markdown",
   "metadata": {},
   "source": [
    "#### Case study"
   ]
  },
  {
   "cell_type": "code",
   "execution_count": null,
   "metadata": {},
   "outputs": [],
   "source": [
    "check_index = ~certified_index & clean_corr_index\n",
    "example_a = original_images[labels == 5][80]\n",
    "example_b = original_images[check_index][labels[check_index] == 9][60]"
   ]
  },
  {
   "cell_type": "code",
   "execution_count": 357,
   "metadata": {
    "ExecuteTime": {
     "end_time": "2021-01-22T08:45:39.911672Z",
     "start_time": "2021-01-22T08:45:39.752032Z"
    }
   },
   "outputs": [
    {
     "data": {
      "text/plain": [
       "<matplotlib.image.AxesImage at 0x7f3dd6959518>"
      ]
     },
     "execution_count": 357,
     "metadata": {},
     "output_type": "execute_result"
    },
    {
     "data": {
      "image/png": "[encoded data removed]",
      "text/plain": [
       "<Figure size 288x360 with 2 Axes>"
      ]
     },
     "metadata": {
      "needs_background": "light"
     },
     "output_type": "display_data"
    }
   ],
   "source": [
    "pos_start = 14\n",
    "block_size = 2\n",
    "fig, ax_list = plt.subplots(1, 2, figsize=(4, 5))\n",
    "ax_list[0].imshow(example_a.permute(1, 2, 0), cmap='gray')\n",
    "ax_list[1].imshow(example_b.permute(1, 2, 0), cmap='gray')"
   ]
  },
  {
   "cell_type": "code",
   "execution_count": 358,
   "metadata": {
    "ExecuteTime": {
     "end_time": "2021-01-22T08:45:44.380556Z",
     "start_time": "2021-01-22T08:45:42.808149Z"
    }
   },
   "outputs": [
    {
     "data": {
      "image/png": "[encoded data removed]",
      "text/plain": [
       "<Figure size 1440x360 with 16 Axes>"
      ]
     },
     "metadata": {
      "needs_background": "light"
     },
     "output_type": "display_data"
    }
   ],
   "source": [
    "pos_start = 10\n",
    "block_size = 2\n",
    "fig, ax_list = plt.subplots(2, 8, figsize=(20, 5))\n",
    "#ax_list[0][0].imshow(example_a.permute(1, 2, 0), cmap='gray')\n",
    "#ax_list[0][1].imshow(example_b.permute(1, 2, 0), cmap='gray')\n",
    "\n",
    "for i in range(8):\n",
    "    pos = pos_start + i\n",
    "    mask_example_a = torch.zeros_like(example_a)\n",
    "    mask_example_a[:, :, pos:pos+block_size] = example_a[:, :, pos:pos+block_size]\n",
    "    mask_example_b = torch.zeros_like(example_b)\n",
    "    mask_example_b[:, :, pos:pos+block_size] = example_b[:, :, pos:pos+block_size]\n",
    "    ax_list[0][i].imshow(mask_example_a.permute(1, 2, 0), cmap='gray')\n",
    "    ax_list[1][i].imshow(mask_example_b.permute(1, 2, 0), cmap='gray')"
   ]
  }
 ],
 "metadata": {
  "kernelspec": {
   "display_name": "Python 3 (ipykernel)",
   "language": "python",
   "name": "python3"
  },
  "language_info": {
   "codemirror_mode": {
    "name": "ipython",
    "version": 3
   },
   "file_extension": ".py",
   "mimetype": "text/x-python",
   "name": "python",
   "nbconvert_exporter": "python",
   "pygments_lexer": "ipython3",
   "version": "3.9.9"
  }
 },
 "nbformat": 4,
 "nbformat_minor": 4
}
